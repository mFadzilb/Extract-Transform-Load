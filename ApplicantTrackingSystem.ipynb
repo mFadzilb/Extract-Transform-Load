{
 "cells": [
  {
   "cell_type": "code",
   "execution_count": 6,
   "id": "36776b43-571e-40ac-9aef-1828377bef90",
   "metadata": {},
   "outputs": [
    {
     "name": "stdout",
     "output_type": "stream",
     "text": [
      "Current Applicants:\n",
      "   applicant_id        name             email  applied_for status  \\\n",
      "0             1    John Doe  john@example.com            1    New   \n",
      "1             2  Jane Smith  jane@example.com            2    New   \n",
      "\n",
      "                applied_date  \n",
      "0 2024-10-09 19:14:05.343636  \n",
      "1 2024-10-09 19:14:05.344632  \n",
      "\n",
      "Updated Applicants:\n",
      "   applicant_id        name             email  applied_for  \\\n",
      "0             1    John Doe  john@example.com            1   \n",
      "1             2  Jane Smith  jane@example.com            2   \n",
      "\n",
      "                status               applied_date  \n",
      "0  Interview Scheduled 2024-10-09 19:14:05.343636  \n",
      "1                  New 2024-10-09 19:14:05.344632  \n",
      "\n",
      "Applicants for Software Engineer position:\n",
      "   applicant_id      name             email  applied_for               status  \\\n",
      "0             1  John Doe  john@example.com            1  Interview Scheduled   \n",
      "\n",
      "                applied_date  \n",
      "0 2024-10-09 19:14:05.343636  \n"
     ]
    }
   ],
   "source": [
    "# Applicant Tracking System\n",
    "\n",
    "import pandas as pd\n",
    "from datetime import datetime\n",
    "\n",
    "# Sample job openings\n",
    "job_openings = pd.DataFrame({\n",
    "    'job_id': [1, 2],\n",
    "    'title': ['Software Engineer', 'Data Analyst'],\n",
    "    'department': ['Engineering', 'Analytics'],\n",
    "    'status': ['Open', 'Open']\n",
    "})\n",
    "\n",
    "# Function to create a new applicant entry\n",
    "def create_applicant_entry(applicant_id, name, email, job_id):\n",
    "    return pd.DataFrame({\n",
    "        'applicant_id': [applicant_id],\n",
    "        'name': [name],\n",
    "        'email': [email],\n",
    "        'applied_for': [job_id],\n",
    "        'status': ['New'],\n",
    "        'applied_date': [datetime.now()]\n",
    "    })\n",
    "\n",
    "# Initialize applicants DataFrame with the first entry\n",
    "applicants = create_applicant_entry(1, 'John Doe', 'john@example.com', 1)\n",
    "\n",
    "# Function to add new applicant\n",
    "def add_applicant(name, email, job_id):\n",
    "    global applicants\n",
    "    new_applicant = create_applicant_entry(len(applicants) + 1, name, email, job_id)\n",
    "    applicants = pd.concat([applicants, new_applicant], ignore_index=True)\n",
    "\n",
    "# Function to update applicant status\n",
    "def update_applicant_status(applicant_id, new_status):\n",
    "    global applicants\n",
    "    applicants.loc[applicants['applicant_id'] == applicant_id, 'status'] = new_status\n",
    "\n",
    "# Add another applicant\n",
    "add_applicant('Jane Smith', 'jane@example.com', 2)\n",
    "\n",
    "print(\"Current Applicants:\")\n",
    "print(applicants)\n",
    "\n",
    "# Update status\n",
    "update_applicant_status(1, 'Interview Scheduled')\n",
    "\n",
    "print(\"\\nUpdated Applicants:\")\n",
    "print(applicants)\n",
    "\n",
    "# Function to get applicants for a specific job\n",
    "def get_applicants_for_job(job_id):\n",
    "    return applicants[applicants['applied_for'] == job_id]\n",
    "\n",
    "print(\"\\nApplicants for Software Engineer position:\")\n",
    "print(get_applicants_for_job(1))"
   ]
  },
  {
   "cell_type": "code",
   "execution_count": null,
   "id": "2c4273eb-1702-4692-ad96-6c878fc3ec64",
   "metadata": {},
   "outputs": [],
   "source": []
  }
 ],
 "metadata": {
  "kernelspec": {
   "display_name": "Python 3 (ipykernel)",
   "language": "python",
   "name": "python3"
  },
  "language_info": {
   "codemirror_mode": {
    "name": "ipython",
    "version": 3
   },
   "file_extension": ".py",
   "mimetype": "text/x-python",
   "name": "python",
   "nbconvert_exporter": "python",
   "pygments_lexer": "ipython3",
   "version": "3.11.7"
  }
 },
 "nbformat": 4,
 "nbformat_minor": 5
}
