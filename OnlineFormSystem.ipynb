{
 "cells": [
  {
   "cell_type": "code",
   "execution_count": 3,
   "id": "b0bee88b-7bf7-4b86-a4dd-add7aeaec255",
   "metadata": {},
   "outputs": [
    {
     "data": {
      "text/html": [
       "<form><label for='name'>Name:</label><br><input type='text' id='name' name='name'><br><label for='email'>Email:</label><br><input type='email' id='email' name='email'><br><label for='age'>Age:</label><br><input type='number' id='age' name='age'><br><label for='feedback'>Feedback:</label><br><textarea id='feedback' name='feedback'></textarea><br><input type='submit' value='Submit'></form>"
      ],
      "text/plain": [
       "<IPython.core.display.HTML object>"
      ]
     },
     "metadata": {},
     "output_type": "display_data"
    },
    {
     "name": "stdout",
     "output_type": "stream",
     "text": [
      "Form Submissions:\n",
      "         name             email age            feedback\n",
      "0    John Doe  john@example.com  30      Great service!\n",
      "1  Jane Smith  jane@example.com  25  Could be improved.\n"
     ]
    }
   ],
   "source": [
    "# Online Form System\n",
    "\n",
    "import pandas as pd\n",
    "from IPython.display import display, HTML\n",
    "\n",
    "# Sample form structure\n",
    "form_structure = {\n",
    "    'name': 'text',\n",
    "    'email': 'email',\n",
    "    'age': 'number',\n",
    "    'feedback': 'textarea'\n",
    "}\n",
    "\n",
    "# Function to generate HTML form\n",
    "def generate_form_html(form_structure):\n",
    "    html = \"<form>\"\n",
    "    for field, field_type in form_structure.items():\n",
    "        html += f\"<label for='{field}'>{field.capitalize()}:</label><br>\"\n",
    "        if field_type == 'textarea':\n",
    "            html += f\"<textarea id='{field}' name='{field}'></textarea><br>\"\n",
    "        else:\n",
    "            html += f\"<input type='{field_type}' id='{field}' name='{field}'><br>\"\n",
    "    html += \"<input type='submit' value='Submit'>\"\n",
    "    html += \"</form>\"\n",
    "    return html\n",
    "\n",
    "# Display the form\n",
    "display(HTML(generate_form_html(form_structure)))\n",
    "\n",
    "# Function to process form submission (simulated)\n",
    "def process_form_submission(data):\n",
    "    return pd.DataFrame([data])\n",
    "\n",
    "# Initialize submissions DataFrame\n",
    "submissions = pd.DataFrame(columns=form_structure.keys())\n",
    "\n",
    "# Simulated form submissions\n",
    "new_submission = process_form_submission({\n",
    "    'name': 'John Doe',\n",
    "    'email': 'john@example.com',\n",
    "    'age': 30,\n",
    "    'feedback': 'Great service!'\n",
    "})\n",
    "submissions = pd.concat([submissions, new_submission], ignore_index=True)\n",
    "\n",
    "new_submission = process_form_submission({\n",
    "    'name': 'Jane Smith',\n",
    "    'email': 'jane@example.com',\n",
    "    'age': 25,\n",
    "    'feedback': 'Could be improved.'\n",
    "})\n",
    "submissions = pd.concat([submissions, new_submission], ignore_index=True)\n",
    "\n",
    "print(\"Form Submissions:\")\n",
    "print(submissions)"
   ]
  },
  {
   "cell_type": "code",
   "execution_count": null,
   "id": "8958344b-c1ef-42c3-ac8a-a472e9699165",
   "metadata": {},
   "outputs": [],
   "source": []
  }
 ],
 "metadata": {
  "kernelspec": {
   "display_name": "Python 3 (ipykernel)",
   "language": "python",
   "name": "python3"
  },
  "language_info": {
   "codemirror_mode": {
    "name": "ipython",
    "version": 3
   },
   "file_extension": ".py",
   "mimetype": "text/x-python",
   "name": "python",
   "nbconvert_exporter": "python",
   "pygments_lexer": "ipython3",
   "version": "3.11.7"
  }
 },
 "nbformat": 4,
 "nbformat_minor": 5
}
