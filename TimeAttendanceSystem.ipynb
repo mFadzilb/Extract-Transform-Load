{
 "cells": [
  {
   "cell_type": "code",
   "execution_count": 5,
   "id": "c00fc15c-cfb5-4987-adce-07c6f584dfd3",
   "metadata": {},
   "outputs": [
    {
     "name": "stdout",
     "output_type": "stream",
     "text": [
      "Raw attendance records:\n",
      "   employee_id                  timestamp     action\n",
      "0            1 2024-10-09 19:08:54.390477   clock_in\n",
      "1            1 2024-10-09 19:08:54.391478  clock_out\n",
      "2            2 2024-10-09 19:08:54.391478   clock_in\n",
      "3            2 2024-10-09 19:08:54.391478  clock_out\n",
      "\n",
      "Processed attendance records with work hours:\n",
      "action  employee_id        date                   clock_in  \\\n",
      "0                 1  2024-10-09 2024-10-09 19:08:54.390477   \n",
      "1                 2  2024-10-09 2024-10-09 19:08:54.391478   \n",
      "\n",
      "action                  clock_out    work_hours  \n",
      "0      2024-10-09 19:08:54.391478  2.780556e-07  \n",
      "1      2024-10-09 19:08:54.391478  0.000000e+00  \n"
     ]
    }
   ],
   "source": [
    "# Time Attendance System\n",
    "\n",
    "import pandas as pd\n",
    "from datetime import datetime, timedelta\n",
    "\n",
    "# Sample employee data\n",
    "employees = pd.DataFrame({\n",
    "    'employee_id': [1, 2, 3],\n",
    "    'name': ['John Doe', 'Jane Smith', 'Mike Johnson']\n",
    "})\n",
    "\n",
    "# Function to record attendance\n",
    "def record_attendance(employee_id, action):\n",
    "    now = datetime.now()\n",
    "    return pd.DataFrame({\n",
    "        'employee_id': [employee_id],\n",
    "        'timestamp': [now],\n",
    "        'action': [action]\n",
    "    })\n",
    "\n",
    "# Initialize attendance records with the first entry\n",
    "attendance_records = record_attendance(1, 'clock_in')\n",
    "\n",
    "# Record more attendance entries\n",
    "attendance_records = pd.concat([\n",
    "    attendance_records,\n",
    "    record_attendance(1, 'clock_out'),\n",
    "    record_attendance(2, 'clock_in'),\n",
    "    record_attendance(2, 'clock_out')\n",
    "], ignore_index=True)\n",
    "\n",
    "# Display attendance records\n",
    "print(\"Raw attendance records:\")\n",
    "print(attendance_records)\n",
    "\n",
    "# Process attendance records to calculate work hours\n",
    "def process_attendance(records):\n",
    "    processed = records.copy()\n",
    "    processed['date'] = processed['timestamp'].dt.date\n",
    "    \n",
    "    # Group by employee and date, then pivot to get clock_in and clock_out\n",
    "    pivoted = processed.pivot_table(\n",
    "        index=['employee_id', 'date'],\n",
    "        columns='action',\n",
    "        values='timestamp',\n",
    "        aggfunc='first'\n",
    "    ).reset_index()\n",
    "    \n",
    "    # Calculate work hours\n",
    "    pivoted['work_hours'] = (pivoted['clock_out'] - pivoted['clock_in']).dt.total_seconds() / 3600\n",
    "    \n",
    "    return pivoted\n",
    "\n",
    "processed_records = process_attendance(attendance_records)\n",
    "\n",
    "print(\"\\nProcessed attendance records with work hours:\")\n",
    "print(processed_records)"
   ]
  },
  {
   "cell_type": "code",
   "execution_count": null,
   "id": "dc4d020d-7653-4000-8bff-43d5ff184d39",
   "metadata": {},
   "outputs": [],
   "source": []
  }
 ],
 "metadata": {
  "kernelspec": {
   "display_name": "Python 3 (ipykernel)",
   "language": "python",
   "name": "python3"
  },
  "language_info": {
   "codemirror_mode": {
    "name": "ipython",
    "version": 3
   },
   "file_extension": ".py",
   "mimetype": "text/x-python",
   "name": "python",
   "nbconvert_exporter": "python",
   "pygments_lexer": "ipython3",
   "version": "3.11.7"
  }
 },
 "nbformat": 4,
 "nbformat_minor": 5
}
